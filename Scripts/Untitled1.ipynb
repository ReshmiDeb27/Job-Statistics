{
 "cells": [
  {
   "cell_type": "code",
   "execution_count": 3,
   "id": "329653ca-0431-461c-be22-8e5d6c9bf060",
   "metadata": {},
   "outputs": [],
   "source": [
    "import requests\n",
    "import pandas as pd\n",
    "import json\n",
    "import os  \n",
    "\n",
    "API_KEY = \"7cabf1af16684543bd085162d6b415f7\"  \n",
    "BASE_URL = \"https://api.bls.gov/publicAPI/v2/timeseries/data/\"\n",
    "SERIES_IDS = [\n",
    "    \"CES0000000001\",\n",
    "    \"CES0500000002\", \n",
    "    \"LNS14000000\",\n",
    "    \"LNS13000000\"\n",
    "]\n",
    "\n",
    "def fetch_bls_data(series_ids, start_year, end_year):\n",
    "    headers = {'Content-type': 'application/json'}\n",
    "    data = json.dumps({\n",
    "        \"seriesid\": series_ids,\n",
    "        \"startyear\": start_year,\n",
    "        \"endyear\": end_year,\n",
    "        \"registrationkey\": API_KEY\n",
    "    })\n",
    "    response = requests.post(BASE_URL, headers=headers, data=data)\n",
    "    return response.json()\n",
    "\n",
    "def save_data(json_data, output_file=\"data/bls_data.csv\"):\n",
    "    # Ensure the directory exists\n",
    "    output_dir = os.path.dirname(output_file)\n",
    "    if not os.path.exists(output_dir):\n",
    "        os.makedirs(output_dir)\n",
    "\n",
    "    all_series = []\n",
    "    for series in json_data['Results']['series']:\n",
    "        series_id = series['seriesID']\n",
    "        series_data = series['data']\n",
    "        df = pd.DataFrame(series_data)\n",
    "        df['seriesID'] = series_id\n",
    "        all_series.append(df)\n",
    "\n",
    "    final_df = pd.concat(all_series)\n",
    "    final_df.to_csv(output_file, index=False)\n",
    "\n",
    "if __name__ == \"__main__\":\n",
    "    data = fetch_bls_data(SERIES_IDS, start_year=\"2022\", end_year=\"2024\")\n",
    "    save_data(data)\n"
   ]
  },
  {
   "cell_type": "code",
   "execution_count": 15,
   "id": "b4deb97b-0da0-45fe-9f03-3d3543fde488",
   "metadata": {},
   "outputs": [],
   "source": [
    "import pandas as pd\n",
    "\n",
    "def process_data(input_file=\"C:/Users/Reshmi/OneDrive/Documents/GitHub/Job-Statistics/data/bls_data.csv\", output_file=\"C:/Users/Reshmi/OneDrive/Documents/GitHub/Job-Statistics/data/bls_cleaned_data.csv\"):\n",
    "    df = pd.read_csv(input_file)\n",
    "    df['date'] = pd.to_datetime(df['year'].astype(str) + df['periodName'], format='%Y%B')\n",
    "    df = df[['date', 'seriesID', 'value']]\n",
    "    df.to_csv(output_file, index=False)\n",
    "\n",
    "if __name__ == \"__main__\":\n",
    "    process_data()"
   ]
  },
  {
   "cell_type": "code",
   "execution_count": null,
   "id": "11ac818c-e402-42cb-b2aa-61fc827eb21d",
   "metadata": {},
   "outputs": [],
   "source": []
  }
 ],
 "metadata": {
  "kernelspec": {
   "display_name": "Python 3 (ipykernel)",
   "language": "python",
   "name": "python3"
  },
  "language_info": {
   "codemirror_mode": {
    "name": "ipython",
    "version": 3
   },
   "file_extension": ".py",
   "mimetype": "text/x-python",
   "name": "python",
   "nbconvert_exporter": "python",
   "pygments_lexer": "ipython3",
   "version": "3.13.0"
  }
 },
 "nbformat": 4,
 "nbformat_minor": 5
}
